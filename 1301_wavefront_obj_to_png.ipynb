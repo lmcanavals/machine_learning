{
  "nbformat": 4,
  "nbformat_minor": 0,
  "metadata": {
    "colab": {
      "provenance": [],
      "authorship_tag": "ABX9TyM+Ul3i7pfi9SrvRhWNB9Bw",
      "include_colab_link": true
    },
    "kernelspec": {
      "name": "python3",
      "display_name": "Python 3"
    },
    "language_info": {
      "name": "python"
    }
  },
  "cells": [
    {
      "cell_type": "markdown",
      "metadata": {
        "id": "view-in-github",
        "colab_type": "text"
      },
      "source": [
        "<a href=\"https://colab.research.google.com/github/lmcanavals/machine_learning/blob/main/1301_wavefront_obj_to_png.ipynb\" target=\"_parent\"><img src=\"https://colab.research.google.com/assets/colab-badge.svg\" alt=\"Open In Colab\"/></a>"
      ]
    },
    {
      "cell_type": "code",
      "source": [
        "#!python -m pip install -U pywavefront\n",
        "!python -m pip install -U kaleido"
      ],
      "metadata": {
        "id": "R9vNItPGGMYD",
        "colab": {
          "base_uri": "https://localhost:8080/"
        },
        "outputId": "43bfef69-aed1-4b3f-ca34-1a45b0f70e05"
      },
      "execution_count": 1,
      "outputs": [
        {
          "output_type": "stream",
          "name": "stdout",
          "text": [
            "Requirement already satisfied: kaleido in /usr/local/lib/python3.10/dist-packages (0.2.1)\n"
          ]
        }
      ]
    },
    {
      "cell_type": "code",
      "execution_count": 2,
      "metadata": {
        "id": "5UxkVPRBEfeU"
      },
      "outputs": [],
      "source": [
        "#import pywavefront\n",
        "import plotly.graph_objects as go\n",
        "import numpy as np"
      ]
    },
    {
      "cell_type": "code",
      "source": [
        "#meshes = pywavefront.Wavefront('stooleV2.obj', create_materials=True)"
      ],
      "metadata": {
        "id": "E5A5RBE7Jem2"
      },
      "execution_count": 3,
      "outputs": []
    },
    {
      "cell_type": "code",
      "source": [
        "def obj_data_to_mesh3d(lines):\n",
        "    # odata is the string read from an obj file\n",
        "    vertices = []\n",
        "    faces = []\n",
        "\n",
        "    for line in lines:\n",
        "        slist = line.split()\n",
        "        if slist:\n",
        "            if slist[0] == 'v':\n",
        "                vertex = np.array(slist[1:], dtype=float)\n",
        "                vertices.append(vertex)\n",
        "            elif slist[0] == 'f':\n",
        "                face = []\n",
        "                for k in range(1, len(slist)):\n",
        "                    face.append([int(s) for s in slist[k].replace('//','/').split('/')])\n",
        "                if len(face) > 3: # triangulate the n-polyonal face, n>3\n",
        "                    faces.extend([[face[0][0]-1, face[k][0]-1, face[k+1][0]-1] for k in range(1, len(face)-1)])\n",
        "                else:\n",
        "                    faces.append([face[j][0]-1 for j in range(len(face))])\n",
        "            else: pass\n",
        "\n",
        "\n",
        "    return np.array(vertices), np.array(faces)"
      ],
      "metadata": {
        "id": "jDf0OTSlKiyX"
      },
      "execution_count": 4,
      "outputs": []
    },
    {
      "cell_type": "code",
      "source": [
        "def save(filename):\n",
        "    lines = open(filename).readlines()\n",
        "    vertices, faces = obj_data_to_mesh3d(lines)\n",
        "\n",
        "    x, y, z = vertices.T\n",
        "    I, J, K = faces.T\n",
        "\n",
        "    mesh = go.Mesh3d(\n",
        "                x=x,\n",
        "                y=z,\n",
        "                z=y,\n",
        "                #vertexcolor=vertices[:, 3:], #the color codes must be triplets of floats  in [0,1]!!\n",
        "                i=I,\n",
        "                j=J,\n",
        "                k=K,\n",
        "                name='',\n",
        "                showscale=False,\n",
        "                #opacity = 0.75,\n",
        "                color = 'brown')# Download data set from plotly repo\n",
        "\n",
        "\n",
        "    fig = go.Figure(data=mesh)\n",
        "    fig.update_layout(\n",
        "        scene = dict(\n",
        "            xaxis = dict(visible=False),\n",
        "            yaxis = dict(visible=False),\n",
        "            zaxis =dict(visible=False)\n",
        "            )\n",
        "        )\n",
        "    fig.write_image(\"fig1.png\")\n",
        "    #fig.show()"
      ],
      "metadata": {
        "id": "mTMy4fecGKe2"
      },
      "execution_count": 9,
      "outputs": []
    },
    {
      "cell_type": "code",
      "source": [
        "save('stooleV2.obj')"
      ],
      "metadata": {
        "id": "28AyFzXQSXgT"
      },
      "execution_count": 10,
      "outputs": []
    },
    {
      "cell_type": "code",
      "source": [
        "%timeit save('stooleV2.obj')"
      ],
      "metadata": {
        "colab": {
          "base_uri": "https://localhost:8080/"
        },
        "id": "RlTb_opNT3WB",
        "outputId": "168d3212-db5a-4955-af93-88a0027a4e10"
      },
      "execution_count": 11,
      "outputs": [
        {
          "output_type": "stream",
          "name": "stdout",
          "text": [
            "1.08 s ± 88.8 ms per loop (mean ± std. dev. of 7 runs, 1 loop each)\n"
          ]
        }
      ]
    },
    {
      "cell_type": "code",
      "source": [],
      "metadata": {
        "id": "kvKMV5RoT559"
      },
      "execution_count": null,
      "outputs": []
    }
  ]
}