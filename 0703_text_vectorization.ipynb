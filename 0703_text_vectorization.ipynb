{
  "nbformat": 4,
  "nbformat_minor": 0,
  "metadata": {
    "colab": {
      "provenance": [],
      "authorship_tag": "ABX9TyNbkHtXnVbrwxT7ZL534PCn",
      "include_colab_link": true
    },
    "kernelspec": {
      "name": "python3",
      "display_name": "Python 3"
    },
    "language_info": {
      "name": "python"
    }
  },
  "cells": [
    {
      "cell_type": "markdown",
      "metadata": {
        "id": "view-in-github",
        "colab_type": "text"
      },
      "source": [
        "<a href=\"https://colab.research.google.com/github/lmcanavals/machine_learning/blob/main/0703_text_vectorization.ipynb\" target=\"_parent\"><img src=\"https://colab.research.google.com/assets/colab-badge.svg\" alt=\"Open In Colab\"/></a>"
      ]
    },
    {
      "cell_type": "code",
      "execution_count": 1,
      "metadata": {
        "colab": {
          "base_uri": "https://localhost:8080/"
        },
        "id": "wtDB6-jjeq-w",
        "outputId": "f407d094-476a-440a-ac40-0548fd4075dd"
      },
      "outputs": [
        {
          "output_type": "stream",
          "name": "stdout",
          "text": [
            "Writing corpus.txt\n"
          ]
        }
      ],
      "source": [
        "%%file corpus.txt\n",
        "saludo al sol con una sonrisa\n",
        "cuando sonries se te ven los dientes\n",
        "como los dientes de un sol de caricatura"
      ]
    },
    {
      "cell_type": "code",
      "source": [
        "with open('corpus.txt') as f:\n",
        "    docs = f.readlines()\n",
        "\n",
        "docs\n",
        "m = len(docs)"
      ],
      "metadata": {
        "id": "1hEFejZRe3qV"
      },
      "execution_count": 6,
      "outputs": []
    },
    {
      "cell_type": "code",
      "source": [
        "words = list(set((' '.join(docs)).split()))\n",
        "words"
      ],
      "metadata": {
        "colab": {
          "base_uri": "https://localhost:8080/"
        },
        "id": "Z_Xf7OsKfLeR",
        "outputId": "eee682a2-77fa-449b-9257-b976ba1cbe0e"
      },
      "execution_count": 7,
      "outputs": [
        {
          "output_type": "execute_result",
          "data": {
            "text/plain": [
              "['se',\n",
              " 'saludo',\n",
              " 'dientes',\n",
              " 'caricatura',\n",
              " 'sonries',\n",
              " 'un',\n",
              " 'como',\n",
              " 'de',\n",
              " 'al',\n",
              " 'te',\n",
              " 'con',\n",
              " 'sol',\n",
              " 'sonrisa',\n",
              " 'una',\n",
              " 'los',\n",
              " 'cuando',\n",
              " 'ven']"
            ]
          },
          "metadata": {},
          "execution_count": 7
        }
      ]
    },
    {
      "cell_type": "code",
      "source": [
        "n = len(words)\n",
        "n"
      ],
      "metadata": {
        "colab": {
          "base_uri": "https://localhost:8080/"
        },
        "id": "wT9Vo30tfaFk",
        "outputId": "c099756d-17cc-48e0-e6d7-c5b907fc0a4b"
      },
      "execution_count": 8,
      "outputs": [
        {
          "output_type": "execute_result",
          "data": {
            "text/plain": [
              "17"
            ]
          },
          "metadata": {},
          "execution_count": 8
        }
      ]
    },
    {
      "cell_type": "code",
      "source": [
        "import numpy as np"
      ],
      "metadata": {
        "id": "rDLd0LeFfhyQ"
      },
      "execution_count": 9,
      "outputs": []
    },
    {
      "cell_type": "code",
      "source": [
        "X = np.zeros((m, n))\n",
        "for i, doc in enumerate(docs):\n",
        "    for j, word in enumerate(words):\n",
        "        if word in doc:\n",
        "            X[i, j] = 1\n",
        "\n",
        "print(X)"
      ],
      "metadata": {
        "colab": {
          "base_uri": "https://localhost:8080/"
        },
        "id": "wtk0kbghfolk",
        "outputId": "5c7c59e9-08cf-4354-b28b-d10b86d09a80"
      },
      "execution_count": 10,
      "outputs": [
        {
          "output_type": "stream",
          "name": "stdout",
          "text": [
            "[[0. 1. 0. 0. 0. 1. 0. 0. 1. 0. 1. 1. 1. 1. 0. 0. 0.]\n",
            " [1. 0. 1. 0. 1. 0. 0. 0. 0. 1. 0. 0. 0. 0. 1. 1. 1.]\n",
            " [0. 0. 1. 1. 0. 1. 1. 1. 0. 1. 0. 1. 0. 0. 1. 0. 0.]]\n"
          ]
        }
      ]
    },
    {
      "cell_type": "code",
      "source": [],
      "metadata": {
        "id": "M2UrYtIYgB43"
      },
      "execution_count": null,
      "outputs": []
    }
  ]
}