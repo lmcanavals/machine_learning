{
  "nbformat": 4,
  "nbformat_minor": 0,
  "metadata": {
    "colab": {
      "provenance": [],
      "authorship_tag": "ABX9TyOgqLsGtDLiE1smNimkXPCJ",
      "include_colab_link": true
    },
    "kernelspec": {
      "name": "python3",
      "display_name": "Python 3"
    },
    "language_info": {
      "name": "python"
    }
  },
  "cells": [
    {
      "cell_type": "markdown",
      "metadata": {
        "id": "view-in-github",
        "colab_type": "text"
      },
      "source": [
        "<a href=\"https://colab.research.google.com/github/lmcanavals/machine_learning/blob/main/1003_load_model_and_transfer_learning.ipynb\" target=\"_parent\"><img src=\"https://colab.research.google.com/assets/colab-badge.svg\" alt=\"Open In Colab\"/></a>"
      ]
    },
    {
      "cell_type": "code",
      "execution_count": 6,
      "metadata": {
        "id": "_rZwnkagAGQT"
      },
      "outputs": [],
      "source": [
        "import tensorflow as tf\n",
        "from tensorflow import keras\n",
        "from tensorflow.keras import models\n",
        "from tensorflow.keras import layers\n",
        "from tensorflow.keras.datasets import mnist\n",
        "\n",
        "import numpy as np\n",
        "import matplotlib.pyplot as plt"
      ]
    },
    {
      "cell_type": "code",
      "source": [
        "fashionmodel = models.load_model('fashion.keras')"
      ],
      "metadata": {
        "id": "1Po48NoeAxUc"
      },
      "execution_count": 24,
      "outputs": []
    },
    {
      "cell_type": "code",
      "source": [
        "fashionmodel.summary()"
      ],
      "metadata": {
        "colab": {
          "base_uri": "https://localhost:8080/"
        },
        "id": "vr67orT9BVTg",
        "outputId": "ad7f8098-c391-43f7-c48e-effdff509759"
      },
      "execution_count": 25,
      "outputs": [
        {
          "output_type": "stream",
          "name": "stdout",
          "text": [
            "Model: \"sequential\"\n",
            "_________________________________________________________________\n",
            " Layer (type)                Output Shape              Param #   \n",
            "=================================================================\n",
            " conv2d (Conv2D)             (None, 26, 26, 64)        640       \n",
            "                                                                 \n",
            " max_pooling2d (MaxPooling2  (None, 13, 13, 64)        0         \n",
            " D)                                                              \n",
            "                                                                 \n",
            " conv2d_1 (Conv2D)           (None, 11, 11, 32)        18464     \n",
            "                                                                 \n",
            " max_pooling2d_1 (MaxPoolin  (None, 5, 5, 32)          0         \n",
            " g2D)                                                            \n",
            "                                                                 \n",
            " flatten (Flatten)           (None, 800)               0         \n",
            "                                                                 \n",
            " dense (Dense)               (None, 64)                51264     \n",
            "                                                                 \n",
            " dropout (Dropout)           (None, 64)                0         \n",
            "                                                                 \n",
            " dense_1 (Dense)             (None, 32)                2080      \n",
            "                                                                 \n",
            " dropout_1 (Dropout)         (None, 32)                0         \n",
            "                                                                 \n",
            " dense_2 (Dense)             (None, 10)                330       \n",
            "                                                                 \n",
            "=================================================================\n",
            "Total params: 72778 (284.29 KB)\n",
            "Trainable params: 72778 (284.29 KB)\n",
            "Non-trainable params: 0 (0.00 Byte)\n",
            "_________________________________________________________________\n"
          ]
        }
      ]
    },
    {
      "cell_type": "code",
      "source": [
        "(x_train, y_train), (x_test, y_test) = keras.datasets.mnist.load_data()"
      ],
      "metadata": {
        "id": "JtQW5CVyCslj"
      },
      "execution_count": 32,
      "outputs": []
    },
    {
      "cell_type": "code",
      "source": [
        "x_train = x_train / 255.\n",
        "x_test = x_test / 255.\n",
        "x_train = x_train.reshape(*x_train.shape, 1)\n",
        "x_test = x_test.reshape(*x_test.shape, 1)\n",
        "print(x_train.shape, y_train.shape)\n",
        "print(x_test.shape, y_test.shape)"
      ],
      "metadata": {
        "colab": {
          "base_uri": "https://localhost:8080/"
        },
        "id": "ugEDGu7sCvlb",
        "outputId": "dd083dc1-edd4-4adb-ae41-f493e3942dea"
      },
      "execution_count": 33,
      "outputs": [
        {
          "output_type": "stream",
          "name": "stdout",
          "text": [
            "(60000, 28, 28, 1) (60000,)\n",
            "(10000, 28, 28, 1) (10000,)\n"
          ]
        }
      ]
    },
    {
      "cell_type": "code",
      "source": [
        "plt.imshow(x_train[0], cmap='gray_r')\n",
        "plt.axis('off')"
      ],
      "metadata": {
        "colab": {
          "base_uri": "https://localhost:8080/",
          "height": 424
        },
        "id": "zhzansthBZqH",
        "outputId": "99411111-e119-4246-cd9d-ca81d78a7add"
      },
      "execution_count": 12,
      "outputs": [
        {
          "output_type": "execute_result",
          "data": {
            "text/plain": [
              "(-0.5, 27.5, 27.5, -0.5)"
            ]
          },
          "metadata": {},
          "execution_count": 12
        },
        {
          "output_type": "display_data",
          "data": {
            "text/plain": [
              "<Figure size 640x480 with 1 Axes>"
            ],
            "image/png": "[encoded data removed]"
          },
          "metadata": {}
        }
      ]
    },
    {
      "cell_type": "code",
      "source": [
        "fashionmodel.evaluate(x_test, y_test)"
      ],
      "metadata": {
        "colab": {
          "base_uri": "https://localhost:8080/"
        },
        "id": "MD2asfjxCbBa",
        "outputId": "6785bcd7-c2e9-4f5e-aa41-dcc6f9c94333"
      },
      "execution_count": 34,
      "outputs": [
        {
          "output_type": "stream",
          "name": "stdout",
          "text": [
            "313/313 [==============================] - 3s 9ms/step - loss: 19.4455 - accuracy: 0.1160\n"
          ]
        },
        {
          "output_type": "execute_result",
          "data": {
            "text/plain": [
              "[19.44547462463379, 0.11599999666213989]"
            ]
          },
          "metadata": {},
          "execution_count": 34
        }
      ]
    },
    {
      "cell_type": "code",
      "source": [
        "fashionmodel.layers.pop()"
      ],
      "metadata": {
        "colab": {
          "base_uri": "https://localhost:8080/"
        },
        "id": "c2sU_7qEDikv",
        "outputId": "a21c8e5a-a192-437b-ccae-06cc98e8daa3"
      },
      "execution_count": 35,
      "outputs": [
        {
          "output_type": "execute_result",
          "data": {
            "text/plain": [
              "<keras.src.layers.core.dense.Dense at 0x7c96f9cd5b10>"
            ]
          },
          "metadata": {},
          "execution_count": 35
        }
      ]
    },
    {
      "cell_type": "code",
      "source": [
        "for layer in fashionmodel.layers:\n",
        "    layer.trainable = False"
      ],
      "metadata": {
        "id": "-lYKIuqVEkOm"
      },
      "execution_count": 36,
      "outputs": []
    },
    {
      "cell_type": "code",
      "source": [
        "model = keras.Sequential([\n",
        "    fashionmodel,\n",
        "    layers.Dense(10, activation='softmax')])\n",
        "model.compile(optimizer='adam',\n",
        "              loss='sparse_categorical_crossentropy',\n",
        "              metrics=['accuracy'])\n",
        "model.build(input_shape=(None, 28, 28, 1))\n",
        "model.summary()"
      ],
      "metadata": {
        "colab": {
          "base_uri": "https://localhost:8080/"
        },
        "id": "nVUz53VPEszd",
        "outputId": "979c2c5c-ab6b-4092-d6d0-97c5c1b786ca"
      },
      "execution_count": 39,
      "outputs": [
        {
          "output_type": "stream",
          "name": "stdout",
          "text": [
            "Model: \"sequential_3\"\n",
            "_________________________________________________________________\n",
            " Layer (type)                Output Shape              Param #   \n",
            "=================================================================\n",
            " sequential (Sequential)     (None, 10)                72778     \n",
            "                                                                 \n",
            " dense_4 (Dense)             (None, 10)                110       \n",
            "                                                                 \n",
            "=================================================================\n",
            "Total params: 72888 (284.72 KB)\n",
            "Trainable params: 110 (440.00 Byte)\n",
            "Non-trainable params: 72778 (284.29 KB)\n",
            "_________________________________________________________________\n"
          ]
        }
      ]
    },
    {
      "cell_type": "code",
      "source": [
        "model.fit(x_train[:1000], y_train[:1000],\n",
        "          validation_data=[x_test, y_test],\n",
        "          epochs=10)"
      ],
      "metadata": {
        "colab": {
          "base_uri": "https://localhost:8080/"
        },
        "id": "Gj2qT6tFFr2P",
        "outputId": "db0d978c-e18c-4b98-8eb7-6dd7731324cf"
      },
      "execution_count": 40,
      "outputs": [
        {
          "output_type": "stream",
          "name": "stdout",
          "text": [
            "Epoch 1/10\n",
            "32/32 [==============================] - 7s 187ms/step - loss: 2.3360 - accuracy: 0.1050 - val_loss: 2.3176 - val_accuracy: 0.1001\n",
            "Epoch 2/10\n",
            "32/32 [==============================] - 3s 91ms/step - loss: 2.3287 - accuracy: 0.0970 - val_loss: 2.3095 - val_accuracy: 0.1031\n",
            "Epoch 3/10\n",
            "32/32 [==============================] - 3s 92ms/step - loss: 2.3213 - accuracy: 0.1010 - val_loss: 2.3025 - val_accuracy: 0.1044\n",
            "Epoch 4/10\n",
            "32/32 [==============================] - 3s 92ms/step - loss: 2.3047 - accuracy: 0.1020 - val_loss: 2.2960 - val_accuracy: 0.1048\n",
            "Epoch 5/10\n",
            "32/32 [==============================] - 5s 177ms/step - loss: 2.3087 - accuracy: 0.1010 - val_loss: 2.2895 - val_accuracy: 0.1075\n",
            "Epoch 6/10\n",
            "32/32 [==============================] - 3s 91ms/step - loss: 2.3011 - accuracy: 0.1070 - val_loss: 2.2838 - val_accuracy: 0.1101\n",
            "Epoch 7/10\n",
            "32/32 [==============================] - 3s 91ms/step - loss: 2.2924 - accuracy: 0.1120 - val_loss: 2.2786 - val_accuracy: 0.1216\n",
            "Epoch 8/10\n",
            "32/32 [==============================] - 5s 175ms/step - loss: 2.2901 - accuracy: 0.1090 - val_loss: 2.2738 - val_accuracy: 0.1221\n",
            "Epoch 9/10\n",
            "32/32 [==============================] - 3s 92ms/step - loss: 2.2845 - accuracy: 0.1240 - val_loss: 2.2691 - val_accuracy: 0.1229\n",
            "Epoch 10/10\n",
            "32/32 [==============================] - 3s 90ms/step - loss: 2.2821 - accuracy: 0.1070 - val_loss: 2.2646 - val_accuracy: 0.1234\n"
          ]
        },
        {
          "output_type": "execute_result",
          "data": {
            "text/plain": [
              "<keras.src.callbacks.History at 0x7c96a69288e0>"
            ]
          },
          "metadata": {},
          "execution_count": 40
        }
      ]
    },
    {
      "cell_type": "code",
      "source": [],
      "metadata": {
        "id": "UYq3o1cHHi9M"
      },
      "execution_count": null,
      "outputs": []
    }
  ]
}