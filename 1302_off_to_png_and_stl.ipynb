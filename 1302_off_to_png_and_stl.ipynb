{
  "nbformat": 4,
  "nbformat_minor": 0,
  "metadata": {
    "colab": {
      "provenance": [],
      "authorship_tag": "ABX9TyP+WCiODekB8Xg3WgGNjiUy",
      "include_colab_link": true
    },
    "kernelspec": {
      "name": "python3",
      "display_name": "Python 3"
    },
    "language_info": {
      "name": "python"
    }
  },
  "cells": [
    {
      "cell_type": "markdown",
      "metadata": {
        "id": "view-in-github",
        "colab_type": "text"
      },
      "source": [
        "<a href=\"https://colab.research.google.com/github/lmcanavals/machine_learning/blob/main/1302_off_to_png_and_stl.ipynb\" target=\"_parent\"><img src=\"https://colab.research.google.com/assets/colab-badge.svg\" alt=\"Open In Colab\"/></a>"
      ]
    },
    {
      "cell_type": "code",
      "source": [
        "!python -m pip install -U kaleido"
      ],
      "metadata": {
        "colab": {
          "base_uri": "https://localhost:8080/"
        },
        "id": "o6a_HANFV_IT",
        "outputId": "ea8602c8-5849-40d6-fcf7-e96d536d4860"
      },
      "execution_count": 2,
      "outputs": [
        {
          "output_type": "stream",
          "name": "stdout",
          "text": [
            "Requirement already satisfied: kaleido in /usr/local/lib/python3.10/dist-packages (0.2.1)\n"
          ]
        }
      ]
    },
    {
      "cell_type": "code",
      "source": [
        "import plotly.graph_objects as go\n",
        "import numpy as np"
      ],
      "metadata": {
        "id": "m9kCEWSbV6UP"
      },
      "execution_count": 11,
      "outputs": []
    },
    {
      "cell_type": "code",
      "source": [
        "def readOff(filename):\n",
        "    f = open(filename)\n",
        "    f.readline()\n",
        "    nvertices, nfaces, nedges = map(int, f.readline().split())\n",
        "    #print(f\"Vertices: {nvertices}, Faces: {nfaces}, Edges: {nedges}\")\n",
        "    vertices = []\n",
        "    for _ in range(nvertices):\n",
        "        vertices.append(list(map(float, f.readline().strip().split())))\n",
        "\n",
        "    vertices = np.array(vertices)\n",
        "\n",
        "    triangles = []\n",
        "    for _ in range(nfaces):\n",
        "        face = list(map(int, f.readline().strip().split()))\n",
        "        ntriangles, verts = face[0] - 3 + 1, face[1:]\n",
        "        for n in range(ntriangles):\n",
        "            triangles.append([verts[0], verts[1 + n], verts[2 + n]])\n",
        "\n",
        "    triangles = np.array(triangles)\n",
        "\n",
        "    return vertices, triangles"
      ],
      "metadata": {
        "id": "SpnHSKVDV1op"
      },
      "execution_count": 9,
      "outputs": []
    },
    {
      "cell_type": "code",
      "source": [
        "\n",
        "def save(filename):\n",
        "    vertices, faces = readOff(filename)\n",
        "\n",
        "    x, y, z = vertices.T\n",
        "    I, J, K = faces.T\n",
        "\n",
        "    mesh = go.Mesh3d(\n",
        "                x=-x,\n",
        "                y=y,\n",
        "                z=z,\n",
        "                #vertexcolor=vertices[:, 3:], #the color codes must be triplets of floats  in [0,1]!!\n",
        "                i=I,\n",
        "                j=J,\n",
        "                k=K,\n",
        "                name='',\n",
        "                showscale=False,\n",
        "                #opacity = 0.75,\n",
        "                color = 'brown')# Download data set from plotly repo\n",
        "\n",
        "\n",
        "    fig = go.Figure(data=mesh)\n",
        "    fig.update_layout(\n",
        "        scene = dict(\n",
        "            xaxis = dict(visible=False),\n",
        "            yaxis = dict(visible=False),\n",
        "            zaxis =dict(visible=False)\n",
        "            )\n",
        "        )\n",
        "    fig.write_image(\"fig1.png\")\n",
        "    #fig.show()"
      ],
      "metadata": {
        "id": "3hNaEJ-JWxaL"
      },
      "execution_count": 19,
      "outputs": []
    },
    {
      "cell_type": "code",
      "source": [
        "%timeit save('sofa.off')"
      ],
      "metadata": {
        "colab": {
          "base_uri": "https://localhost:8080/"
        },
        "id": "foWsMJEvXrDK",
        "outputId": "402f31fe-d75d-462b-ba42-1f4a39ad4f19"
      },
      "execution_count": 21,
      "outputs": [
        {
          "output_type": "stream",
          "name": "stdout",
          "text": [
            "1.44 s ± 256 ms per loop (mean ± std. dev. of 7 runs, 1 loop each)\n"
          ]
        }
      ]
    },
    {
      "cell_type": "code",
      "execution_count": 23,
      "metadata": {
        "id": "lLVgVlYFVwym"
      },
      "outputs": [],
      "source": [
        "def saveStl(vertices, triangles, name):\n",
        "    f = open(name, 'w')\n",
        "    f.write(f\"solid {name}\")\n",
        "\n",
        "    for t in triangles:\n",
        "        x0, y0, z0 = vertices[t[0]]\n",
        "        x1, y1, z1 = vertices[t[1]]\n",
        "        x2, y2, z2 = vertices[t[2]]\n",
        "        f.write(f\"\"\"\n",
        "facet normal 1 1 1\n",
        "    outer loop\n",
        "        vertex {x0} {y0} {z0}\n",
        "        vertex {x1} {y1} {z1}\n",
        "        vertex {x2} {y2} {z2}\n",
        "    endloop\n",
        "endfacet\"\"\")\n",
        "\n",
        "    f.write(f\"\\nendsolid {name}\")\n",
        "    f.close()\n",
        "\n",
        "vertices, triangles = readOff('sofa.off')\n",
        "saveStl(vertices, triangles, 'test.stl')"
      ]
    },
    {
      "cell_type": "code",
      "source": [],
      "metadata": {
        "id": "tV83_2yzW5ec"
      },
      "execution_count": null,
      "outputs": []
    }
  ]
}