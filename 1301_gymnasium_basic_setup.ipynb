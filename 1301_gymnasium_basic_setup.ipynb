{
  "nbformat": 4,
  "nbformat_minor": 0,
  "metadata": {
    "colab": {
      "provenance": [],
      "authorship_tag": "ABX9TyP1CbzhGqL4UK7gI6I8FMDw",
      "include_colab_link": true
    },
    "kernelspec": {
      "name": "python3",
      "display_name": "Python 3"
    },
    "language_info": {
      "name": "python"
    }
  },
  "cells": [
    {
      "cell_type": "markdown",
      "metadata": {
        "id": "view-in-github",
        "colab_type": "text"
      },
      "source": [
        "<a href=\"https://colab.research.google.com/github/lmcanavals/machine_learning/blob/main/1301_gymnasium_basic_setup.ipynb\" target=\"_parent\"><img src=\"https://colab.research.google.com/assets/colab-badge.svg\" alt=\"Open In Colab\"/></a>"
      ]
    },
    {
      "cell_type": "code",
      "source": [
        "!sudo apt-get install swig"
      ],
      "metadata": {
        "id": "blS6C-RpmQvQ"
      },
      "execution_count": null,
      "outputs": []
    },
    {
      "cell_type": "code",
      "execution_count": null,
      "metadata": {
        "id": "GWESdeeTlD0R"
      },
      "outputs": [],
      "source": [
        "!pip install gymnasium"
      ]
    },
    {
      "cell_type": "code",
      "source": [
        "!pip install gymnasium[box2d]"
      ],
      "metadata": {
        "id": "AHkXBB79lzQf"
      },
      "execution_count": null,
      "outputs": []
    },
    {
      "cell_type": "code",
      "source": [
        "import gymnasium as gym"
      ],
      "metadata": {
        "id": "eybCpglfmODw"
      },
      "execution_count": 4,
      "outputs": []
    },
    {
      "cell_type": "code",
      "source": [
        "def query_environment(name):\n",
        "    env = gym.make(name)\n",
        "    spec = gym.spec(name)\n",
        "    print(f\"Action space: {env.action_space}\")\n",
        "    print(f\"Observation space: {env.observation_space}\")\n",
        "    print(f\"Max episodes steps: {spec.max_episode_steps}\")\n",
        "    print(f\"Nondeterministic: {spec.nondeterministic}\")\n",
        "    print(f\"Reward range: {env.reward_range}\")\n",
        "    print(f\"Reward threshold: {spec.reward_threshold}\")"
      ],
      "metadata": {
        "id": "0rtVESKynOow"
      },
      "execution_count": 5,
      "outputs": []
    },
    {
      "cell_type": "code",
      "source": [
        "query_environment('LunarLander-v2')"
      ],
      "metadata": {
        "id": "T18RnjRtn_0v"
      },
      "execution_count": null,
      "outputs": []
    },
    {
      "cell_type": "code",
      "source": [
        "query_environment(\"MountainCar-v0\")"
      ],
      "metadata": {
        "id": "7F_D5b2yoEVe"
      },
      "execution_count": null,
      "outputs": []
    },
    {
      "cell_type": "code",
      "source": [
        "!pip install pyvirtualdisplay\n",
        "!apt-get install -y xvfb python3-opengl ffmpeg"
      ],
      "metadata": {
        "id": "FonXCczgoZ9H"
      },
      "execution_count": null,
      "outputs": []
    },
    {
      "cell_type": "code",
      "source": [
        "%%bash\n",
        "apt-get update\n",
        "apt-get install cmake\n",
        "pip install -U setuptools\n",
        "pip install ez_setup"
      ],
      "metadata": {
        "id": "uODNV4_OqE4-"
      },
      "execution_count": null,
      "outputs": []
    },
    {
      "cell_type": "code",
      "source": [
        "import gymnasium as gym\n",
        "from gymnasium.wrappers.record_video import RecordVideo\n",
        "import glob\n",
        "import io\n",
        "import base64\n",
        "from IPython.display import HTML\n",
        "from pyvirtualdisplay import Display\n",
        "from IPython import display as ipythondisplay"
      ],
      "metadata": {
        "id": "MOuF_Ajyq32-"
      },
      "execution_count": 10,
      "outputs": []
    },
    {
      "cell_type": "code",
      "source": [
        "display = Display(visible=0, size=(1400, 900))\n",
        "display.start()\n",
        "\n",
        "def show_video():\n",
        "    mp4list = glob.glob('video/*.mp4')\n",
        "    if len(mp4list) > 0:\n",
        "        mp4 = mp4list[0]\n",
        "        video = io.open(mp4, \"r+b\").read()\n",
        "        encoded = base64.b64encode(video)\n",
        "        ipythondisplay.display(HTML(data='''\n",
        "        <video alt=\"test\" autoplay loop controls style=\"height: 400px;\">\n",
        "            <source src=\"data:video/mp4;base64,{0}\" type=\"video/mp4\" />\n",
        "        </video>'''.format(encoded.decode('ascii'))))\n",
        "    else:\n",
        "        print(\"No video\")\n",
        "\n",
        "def wrap_env(env):\n",
        "    env = RecordVideo(env, \"./video\")\n",
        "    return env"
      ],
      "metadata": {
        "id": "Pjw_yqSargT3"
      },
      "execution_count": 11,
      "outputs": []
    },
    {
      "cell_type": "code",
      "source": [
        "env = wrap_env(gym.make(\"LunarLander-v2\", render_mode=\"rgb_array\"))\n",
        "observation, info = env.reset(seed=42)\n",
        "for _ in range(1000):\n",
        "   action = env.action_space.sample()  # this is where you would insert your policy\n",
        "   observation, reward, terminated, truncated, info = env.step(action)\n",
        "\n",
        "   if terminated or truncated:\n",
        "      observation, info = env.reset()\n",
        "\n",
        "env.close()"
      ],
      "metadata": {
        "id": "JOoxxOjmsNC4"
      },
      "execution_count": null,
      "outputs": []
    },
    {
      "cell_type": "code",
      "source": [
        "show_video()"
      ],
      "metadata": {
        "colab": {
          "base_uri": "https://localhost:8080/",
          "height": 420
        },
        "id": "QelPB28jukGL",
        "outputId": "9452b34f-3cd1-4971-ab35-c61a88f2b6fe"
      },
      "execution_count": 13,
      "outputs": [
        {
          "output_type": "display_data",
          "data": {
            "text/plain": [
              "<IPython.core.display.HTML object>"
            ],
            "text/html": [
              "\n",
              "        <video alt=\"test\" autoplay loop controls style=\"height: 400px;\">\n",
              "            <source src=\"data:video/mp4;base64,AAAAIGZ0eXBpc29tAAACAGlzb21pc28yYXZjMW1wNDEAAAAIZnJlZQAASIltZGF0AAACrgYF//+q3EXpvebZSLeWLNgg2SPu73gyNjQgLSBjb3JlIDE1OSByMjk5MSAxNzcxYjU1IC0gSC4yNjQvTVBFRy00IEFWQyBjb2RlYyAtIENvcHlsZWZ0IDIwMDMtMjAxOSAtIGh0dHA6Ly93d3cudmlkZW9sYW4ub3JnL3gyNjQuaHRtbCAtIG9wdGlvbnM6IGNhYmFjPTEgcmVmPTMgZGVibG9jaz0xOjA6MCBhbmFseXNlPTB4MzoweDExMyBtZT1oZXggc3VibWU9NyBwc3k9MSBwc3lfcmQ9MS4wMDowLjAwIG1peGVkX3JlZj0xIG1lX3JhbmdlPTE2IGNocm9tYV9tZT0xIHRyZWxsaXM9MSA4eDhkY3Q9MSBjcW09MCBkZWFkem9uZT0yMSwxMSBmYXN0X3Bza2lwPTEgY2hyb21hX3FwX29mZnNldD0tMiB0aHJlYWRzPTMgbG9va2FoZWFkX3RocmVhZHM9MSBzbGljZWRfdGhyZWFkcz0wIG5yPTAgZGVjaW1hdGU9MSBpbnRlcmxhY2VkPTAgYmx1cmF5X2NvbXBhdD0wIGNvbnN0cmFpbmVkX2ludHJhPTAgYmZyYW1lcz0zIGJfcHlyYW1pZD0yIGJfYWRhcHQ9MSBiX2JpYXM9MCBkaXJlY3Q9MSB3ZWlnaHRiPTEgb3Blbl9nb3A9MCB3ZWlnaHRwPTIga2V5aW50PTI1MCBrZXlpbnRfbWluPTI1IHNjZW5lY3V0PTQwIGludHJhX3JlZnJlc2g9MCByY19sb29rYWhlYWQ9NDAgcmM9Y3JmIG1idHJlZT0xIGNyZj0yMy4wIHFjb21wPTAuNjAgcXBtaW49MCBxcG1heD02OSBxcHN0ZXA9NCBpcF9yYXRpbz0xLjQwIGFxPTE6MS4wMACAAAAGQ2WIhAAz//727L4FNhTIUJcRLMXaSnA+KqSAgHc02r/Dxx6sAH9nV05bOSM1b6E9a+fv+TVjj+AmS9K7Vkm00onl7Rr7+drQaItI42zsjCOb0jWcmfSzGEZ2oMKISL4h02QIR5PDoovUnjTcbuZsKt2vfoA0nGVkSzXmrUd9xKeu4H20SPTtZj/Jz0rRxqitLy0DahIdB7T7A2pEwpKOcLKX8eHcqNsqHiZrAbdq1S7OaUmXRBcJ38CIt7PCWQyb78C1SHjLAAADAAADAOEo/rjbe3okesLdvxKAABZg6T2eCQB3B3iHCnFNI+R4tRul2BAwykgmns+7MEMJ+UmQxUlxEx7H4yRIP5LhMa0zziEwRMscM+SR/wi3zWvmtdGKp1Blos66OVHLU0I6JischROv2GYzK+iCKBbRVc7TntfejoDj1hhMWswtICa0aFZ2qHazorw9ZdcXGz260jk4c0eFd+ajkHoxeKyqIFpE4zndPSkmIodFbW0vYrIrO3Wugawy9CoiC3Jz8a4B0Y//slWZxoCVYDiEi5EmnptfCciGhwSe3o07VTmeBDKfrrOa0ba468YsBzmg6sXswI7u4WaKk3xGBDhON+weCRiotV6aQ0jGp8BaJZzzDb3j3m0U1Tlal0nIauqTi0N+10/P6bsBXTS8D/igNZ5cxGHKwxThjHaEQLij+uCKCelNj0Zufl5gIR5Jq3EvGqFj5rKUNq1PJx26uAeqI1JLuGyBp5DG6Cgx4MsACZPjYxyN53PpbkQRmJfrs6Ml+Y4Ebus5xoe10yoWEDN2CmVkujDirsFXlMr+j/9RhMkYnpnkN4uZzL+kB5NSDHi0jBgv1mldE9abDB7YdMUttJfbWUymRLNdZ7HYK+sf7DfdTl4wTU38otUfnoRaPeQJPnNVe+1RPyYR8IDZu3NF/D80Ow177ht4Dkyjf9h8maOeBAXZ6zeg9auVavMGnclQF53acWHY28YWglvS/2zHirVQntZzS0p/W9ahqX/aJjdPwtP5+A/ODg6Pd7nlVyDvilvRbmM4U5zr1DpwDTBqscnS3HVcZb4oOn7/HHZ9i7MjOVGRjn8jUwrWeA+hA7QWsZclkX2QmNUzZWg7zTUJo7QHc0Xzrqj6Gz5r5ql8+ewedcDcE7h/YP/khz8qkY0kQmYvqZjpJi0BkPpKsn2bA1QMP2K295+uC/V2HZGh/S2NcAxOtpFY52vEvN4k+mnptahYKINGTsGjqIJuNY7c23ymAcOsPNgH7FWAynYaHRE6oCUoJY8LTQpDT+FS2nVyh2qL+KGLOR3xrDusPBLnJFP8euoBgLejIzGGcWBfBRiMGh+09aqBWj9lGi4//BEw5nXpKLu9L6r9rl060tCnoPLx8t9W0wbKJp//D0aQPz3nEwtBjDpbM9FnwdanFpar4sh7rGKM2sCeQc9G3PYUpHkjui4v/DsS2DqUvpDmvulJlP34i3c3TCD5FDETP1WlMT/LZ6v2ltyl9tatIM0OVX+NdMI+GNMlq55t8MoyjGS9Om7n76WAtSLycugAAtjLveDz/KocHHfkVzo8USckPL178sWJS4G+eLYJFMp4D5FuEhkyvEmrPA0CmtZsHYszEf7N5m4PQ3gCkOlpU6H/yB4VKgMgclHf24QTTUB6Bk4kwgkAFKUt+9ooaB04jdkItL3nrRzVMcsyc53HELGK5ozYCrLnm6AxkruMcjiR/5zktCvkrUD8m7b975AUMXDoAGpGM3bBv2/nfasAAAeHqnTEau6wrKSkO4P9PSykEsorGnj87PyYaKVYW+9fkae0r6U1Z9C1QFKkaCznduAQTILBVBoeCLkAdEoni7HIepCmMxR79lYZX49gNNdn4yFCmjZCFagSGhcyd1oUxN2C0u+CSVXZstBL0v8bzuRt07yXE12kkqlx0VREKuO8sFiuUUG4xC8HGrooVXmgtPI++7JSu7IpbGOHhtl2JGtFdMrncN7epLM+Qc7TCQ3k4XnvIn/a5g3W7Yk8hMP/tq5Wx979N9gearwPpWvxZjEyPNUjZRNxNs3IhRIu/tyDcuylWKzGSQfoE8pnSGAACzXRfxPRljrRD3f/FTmnCrTtG+d8msvDqTtAM55N6mXrZAe81juJGf4AAAMAAWEAAADzQZokbEM//p4qSWRdgC/0jnyTuJ4mCOF2tYnswiQ4YHJu0SU8GoKkoKyVvyj9nuawTglLky3oFC1iMiqLGfhHZwgnLnD9Lurx5T5HXooxaxeEOPBnTTefEEgAAAMABil33bVMtIDF9N64R+e8pCTYj3xLK47Cq6EUjG6jHr8dUdgtKz+rI1rYclrlhOO2oPckea4HHH3t2pIGvhP5yau33MI6NJQ7oi9zaEUNQ1gaexj6YYoEA/AlBJ+ezXC2nHrv7vesGwnsiKypGLeM/f8e/bXyrmjfIwmoow2ygFRy11w9WRdkHOgYaaRiyvTSuEJWUiigAAAAUkGeQniEfw8xlEqVEU8g8dIANoRi0F6hZ/1ip8J4kWkNkZ/Ho80NAt+fbpxp2PR0G+ZnVWBCAC32mCZP0NI7UhO1GlQGHv6uowTqXNBCAkCmCZkAAAA3AZ5hdEf/FRcyUNEaIh3ZmlEaz1OSYyD4YoYlPrOxkp92AEdEJlX8MnRciZcnR4YLVQCrG4JTcAAAADIBnmNqR/8U4+K/QFUoXVR/Gtf70LgAOIgv3hpQrohnWpKofMOwcVFoAkcQi6pQwoQGpQAAAO1BmmhJqEFomUwIZ//+ni26f58xvgVFremr4fSHvKWgasXmNigxpr4rjgAAAwBRPr2kNrljfAAqOk2l3rnLCzQ8gv3EpnRIFe33u1qVR5HVhZLLj7LmfyOAUukKlwHwleInJ901tUzJF8BTTAV3YbBYYZK8r/cNn7J9SSZgFIo3h7+N5vAOguLDDGrh4xUzqQainoWw47bdJKMFd8tDgam51RT+MUV92vQUjkDur2/RhIiAio4jS7rT/ZPDWAQ32vtx7EI9tsmLTEc7zbMQbU9KqnzpI53bdgKX+aK1AQBeboS08dSMYSOoiYh+CZkAAABmQZ6GRREsI/8PaImA2YI21DjCAIACmTJiuUxq6oUxjbZTrHX4U2W2n0NF8p5uavMgU4sTzFcxXlSonatUbkPnukX+X6q9xjTWMn4UARwxsEbRcm8+1VgDOWEtwcXNCGF7xRo/QHdBAAAANQGepXRH/xTrNb8ib1epAAlggaDplWSwBKzPHpBGiDcAAWSFgzTXeMViLwr2C57J5oEBqoMbAAAAXgGep2pH/xLLXkrOF64KAALp4/Z0IPLlZybCFa9K10guqt+HicFdK/9MnaYXHcKw7nveajxQoZC7jch8THmHAo7XXD0AlP/IBLY2VeSbd+aK7sz9dQdE8zmd7JogEjAAAAC5QZqsSahBbJlMCGf//p4h8zYbNUwAFviYP+0DWjVfNztzCW1vxOGlDn859px8Col5ROau6GfG76T/YUIEtq9ecciE6WRG8YZ3s6JUQg7XxWH8q76WOodke+EJzDAIe/cm2iTwAAADA1phvO+7WpVQFYO653qd0bGkfUo8ZC3GnL+XfQaHkmC/uaGVEfWyJ+gU5PMW6+xc+WjXXRD1Vx2WFsAZKQt742e4zs5s83JA1GroCQn5KkaAQsAAAABYQZ7KRRUsI/8Nzyt0WsQlVdEv9adoVJe3N9QrVEcD0FUAOC+4ZUh8Bb8HZlFvyYlK5gFSYVLTLvyqtKn3A3T3w2Sq93zvgFEORAqbGz8Q8dZYhekogL5D7wAAAE4Bnul0R/8Sy33mAyAGWOvcsBlsuRl8reHBwQa3hL0TthsEdgx+ztQ0bJl0noBpdKsR5/mzlsMMChJ9SqkMW2ZNK0R1eGeAEtCQwygAJOAAAABDAZ7rakf/Eubo9kqLQt0Bh737zAq7/Ls4TMAFQd/+b+se6F5wFrOWUzq/WVI1zpg1RgAAYqYJSWmSaMFUwFeT/LgvIAAAAI9BmvBJqEFsmUwIZ//+niG2dbA1joAWcPoEBZVC+5VuwDNrm9vbEL5T47IBIlHsvLSynYE+iumY/WhMB3zMk7h/4mQLDpmCocLgAAADAAY3++7aplvkBgTjqTKO1Ggncr4D7n6bv0QyPLosKf28dUdORrrm/Mte+RkfbNL7o46I8jDXLObUZ3/Gfolhe54nYQAAAGdBnw5FFSwj/w2L4C73V/3Ylk9z4AG5oh2e67XQ0qHgQKcxiawBFXhqaS9MGwxvGHZh3qWe6g/VK9D597jseovYLUM8I0n2LQSxpCwm+/hR296tJ0AkEmrqCC+AOzWiJtD/5xfNRjF3AAAARgGfLXRH/xLkklfH47e7DyUMXTACMi9B5us60vqSxspdRFMXd67Ts8gpwyHsMFrixGT26kESCaT4BMT6IBZR6W83162+Xz8AAABUAZ8vakf/EwOJ8lZuK4CJynlvRBUQg8AA4M9/OwLad3ROoGcTqH61A+WH6WRLlnwPmSO6JhTuj4KtUUwEfoc/sbGHenoV3vn4DPoAIaX+SGvVqc+YAAAAfEGbNEmoQWyZTAhn//6eIXJ25JcADUvxKKCNB5sIC+UcwB/wMhlIxYI6MhZLG8vhVqcH9Qe18AAAAwAAD5hLoWXo77tqmY1L3x5N+ds/LpQndvmQA6oBOgKziitrOlI2xfqsHBY5LI25dxqaF+POWQvEwgDEmW1lixHvtoAAAAA4QZ9SRRUsI/8OBLwqS8nl7y4ofjpcB5Fnfd/tW09wBB42KYv5BdFgjgBdMILGIH0JvM6UEcGgGBEAAABaAZ9xdEf/EyNtYADSu1jjWFX6F2s5jaGBAnidkjZdUnO2c4O8x1kl9e4fg5RP8MP4A7rY0Qf9uw84MK/6utRI7Q3et4FgTj0YRt6+axMrV+z4DNJlv2RYicW0AAAAMwGfc2pH/xMiPBry9yzy6f9o4Fp8TgAvKhFEkDfe2xcVIDyDs78DYaSMlpeEjnut55NiRgAAAH1Bm3hJqEFsmUwIZ//+niGnnPikOgBKXOozqimQGgPxrIy0ve/iaWk6nYwuXVwRUBiWgvOFYVESWzlbl9jxNGoruAAAAwAAB9CfQyPmN7tqmXaUp3P4k9kshmb2DHSiTed1lFm2SLZiVP1jDMlOeXTjTJhrwz++LHdYt7iLgQAAAENBn5ZFFSwj/w3mS61XzpgM+WzJpb2p5luLuAC0SRTmkpjfs+b5rxBVkEquHZiqYQX+nX9WQb+sAADY8MMg0LQw+C7gAAAANAGftXRH/xMWqNUBBc8hrhlJHkOs+GADY/fm6vNeRMRgNUJoj5WI6e7mnArgAZoshiy/BH0AAAA8AZ+3akf/EwTDTZhPU6yHCiuhsiSH7rYALA2L3QkD53JILGKlwimqSBETHQ0x88pVWMWw95AMXMxLMMtxAAAAq0GbvEmoQWyZTAhn//6eI00/z5jfD+iACZ6mNU34GHFxFOusISXOPfkgYLx9LOJk4NtkY6cpX8Cg0fwgYHu0W1bfk1yQTJqsHpV9MlLRcTxhj0bFmJ7K4xhCFeOX8JQ6A9Dmz1QAAAMAC3+vyO1MtmX88fVMix2daOzZUYClafONAhlwqv9+8UgYvxhxvoC1JparcfHX7U6h3A8jtiyGLtRFRDbNUzD28Ig+YAAAAFNBn9pFFSwj/w3w1SzVTMQA1tLVd8LHsghpAH7GJrAD4ADMBTFgmvHJrqrATLST3bel18lW9H1BD8OF86s9uJQPllwfM8AJlmVfsldSr9AzMixiwQAAADcBn/l0R/8S+1adAC/UAGof1HZ7kljWSGutdtSytQU2YXNbIGJ6MgxFIaPfF61B9HkaGAFr3AyoAAAAMwGf+2pH/xCUnqLq4moKACQWd2BSvMnxkMl85pbnf8D1gOmojgUmrTeymKVRAAAMMkAd0QAAAMBBm+BJqEFsmUwIZ//+nhvqkMOxX2qiP6lzgAhhuXxQI9Tb9Qb9RHN9vzWzG9FbTTrtDPH9Osqvdmm95cBzhqf6Ls7OqAnKaV9ZDcVHWu0jzvis+e2nyO4pGw50dHPUvKXeIchwGNol5VDnQOF6f3W+4531+1cmbDkhQgMBLOP8B/YYp+Apu74AABdlp/Qx7tqmXmT1P3NFWOuqzo+LoKteHpyCTNdZXyp4SqCsh8xXm2iOQ3IgLChhkuidLnWsVsEAAABdQZ4eRRUsI/8MZrC5N7KuaAGr2x8e8QqQiUYwxxP7unqIxUZlQ1+aNML6wlLC8p/csPxPAonR/iV78N4pu7GRgD0Rlvxzy+QtNcmshlMOqsg9BABDSM3MNNp/+wrYAAAAXwGePXRH/xFcCIssbyT9g3tbsddyUA3LV5CgAdIlry21fuvu7JqFXfGre1NM0sB8GQz95TUu7LJsH0iLiZr/UIeE0CgwUYmrquFmz/+jsD4P0ENLnRh4oBcoxKdFRooQAAAAQQGeP2pH/xFiviiuyhgLtXxt448ywapp1B2ZcoMe8AVpJ/01MxaYES0rZOORuotrAQjrzy2Id0BYATmSQgE4yIUlAAAAqUGaJEmoQWyZTAhf//6MxqZfxFI8weFCUPoASPlsNRzweujSpNcfaGfGAAluzGK/jZTLCoUQ2fqBo+GflIlneAdAAPJM7UuD2fjeYc1wzSotHHiiugAAzmF9Niap+5HEAXaJj1tm6A77RkHVjQP4H/2LBuziDyTiUdrUAfqYABadocJCoZMXdtqVTgWefZtOEIzoRdSDXxiR8Tgu5KsaFpYxmVg/ZT3Ii4AAAABIQZ5CRRUsI/8N8L84dGUh+7AAuRKdtW/XWnfJIc+xRrt4PfixkLR+psffhd1P2YGDqAkaWk9tqnudgAiEAVfT2R8SKuzKOCbhAAAAOQGeYXRH/xMZ/eczT/TdZO8Wgv//hP6L25wE2YOQH4uC+mZAGZPxp1grgQx53QOHj4AQYZoWS39LHAAAADABnmNqR/8TE6t7OJkKM+0AH30OX8kB2kMd+zbnL2iLNHv6hRtRHJABqToAQNFBU3EAAACrQZpnSahBbJlMCGf//p4cB5ZyQPAAt7V4COMCnktPzjGKu1PZruNgzgp62FZoJuu64KW9zYXoA0IB6Mc5S+cmuoQuCIPGf4HTWBpd3+af20X6WqbGRXQDoA0l7s1sDbOoyXa+4AAAGPN4Dv+Jrxh0wtpuelq1aw+LHmNsGAsGYa/EV/vvdtU2UTQ8/F2MIWgTogjJM/M80IzM0Gsqt+yzggevfuk7giJW8JRBAAAAREGehUUVLCP/C9M0ocpUm2kAAfzwLPo8SiruB53xTQG8J02/BApFzYXPS9aBBHzXQNY32+il8cALV4DIE6mTQCdQeE3BAAAAMAGepmpH/xFF7xXCotsdIyeEt/4runG5kulFYgL8gZzzyQKdd74AGIZgVvIenpKNSQAAAPFBmqtJqEFsmUwIX//+jL9gn9BXmvFtWgnwpwnv+qzLhHP88TBrtGGIYu6QmPaSb5yK3Ro5kBfRj9kNCiBgjyg+Ei15Kx6ihsbWfZU7qgbq05O+10E6fFvaEdcrzoGxkyEbf0cMtGdsucacAAAHFeNgkamAopft4l21BfrlS3/h8Disy7flWErwtQRgwj6RglW7UHuwHtkSZnvu2qa+c1sg1g/ewRCwk2N/x8aCKNwJOeoYIMIVNJiZPSDS2T0b3zWnAHdyQgSu4czYqCUZfZGwcY+SMpmmAQLmPX70JK+Kp0Y8rGzh53DAhx+SxFCgOi2gAAAAQUGeyUUVLCP/DItcqhpWo/Cem/vsYN8aP+QuNBJJ356sklT4rxJo5Vra8ci9AHYQHcctGsL6HYPYNoYrHZAexwMaAAAALwGe6HRH/xGMHZViftDWGXDB1D0aOMweNztPIF6YVp4FpQwwAivyrp4WFfGfiqHdAAAATAGe6mpH/xGOC1ZFHlenPHLg1GtQWqSzPAEACdu0n/eS29WqwyjVWbXcrBjCA3nYH6VuItlZJ+c2zlHZkD28Hw+ABzx5JtJjscLoGzAAAAECQZruSahBbJlMCGf//p4YiTYZZwAQ3xrkUGlLp4m8K1hpDj2VxM78NNCoEz5nAmXIffeD47bYV/z3aAGq5gmh4xgTl7K1tB0N8cZ+D0qC1YkRMd19cYjRIMFSHJoAGff0i2Kuz+bKxSu1yA/7bM56TinRffF7dOgnUwZ7+f3+dblaBlGn01iB2R5wQstgEzdW7xBgKXqvGH85v/fdrUs5RN8o97FanMf6hEtmAPWXUXL0phsBkGLDe6eSuVLoFevk1Ry9mQ4fWoO5DDTGHzNN3+DXkhoJrDuZ87V5Kzbe+LSF7GHxI6nR3LFoCSQuLmHHuwbkVP2TjPnWwOnxHuBLED5gAAAAhUGfDEUVLCP/C26CfwgAGRhdlTUbDOrEDv7oF0Pw6H1QBs8iJjjj7MR9+fgc3s80natkwwL+24/6GeaUA8pnK8jJrk2s+Tf4VLgYT2hDUuVBKNWIEXj2E0ZuncSJQQRZ8JqcNTNzt6nXA4kiW/Jn4u07sqliNHuxASNzbo6FVl4HH2vIXEEAAABQAZ8takf/EA4AtNlHA4jXgT/irVSHKv1c9AzFog2wExNh2CBgHJBImxOyli+91eqAn2vADZCVUr2UWoRzidwk/yBqKAuGVn6EeYQCcvHMBlUAAAETQZsySahBbJlMCGf//p4ZEbfMTivtD1AC0/FeO57lSSrE7+4QTn7bRi1vBXfwhAaw0veFGX6NHaBfysN+YrLxCDb0CckE8CV5uikAAFIs2dEm7ywIVvykNIvfxGK+bZsB8YxP7xumWBvHS1YFTjByKl2xyTrIz7APDbli69MdvbYu8VPdlms01LwtlTFmEdhdtT70opTeOq/vfdrUr0w3/8E80pcPU9O40I424VWMRxavVMgsy/K7xbO2tFdNkCubQfimzC4/ILa4okBWylZQY0VHuOHc5+4lZaaG+wPAribEoBueEuckf4I0rlzakUZy6XKGkzdr3Xt7Iu1VcxGk2aGupZk9PFF3/eBCFwc47CXACmkAAAB8QZ9QRRUsI/8K2rChWm7Vw4bGUQiRjN4xyMlIgBbPKXg5Fm2voNQpZD+XfvI4ZqJlMbAQ7x0UQUWw8OZXv2pHe7F7sGHZ4kAt99RtYtrfVZKbVQPkOt4UnRltXMmDbYJfwUfz/VR3maKnPxj4wBOsJBdn2WkieLKy/moGBAAAAHwBn290R/8Pxxpc4Orfd44ACZz0sCXplaEZfemPLRFVyvoVhz8ULBEx/M01KQMPLxY/7RnujJQkcOep+TBw3fCcq1xyTSqoHJkZ57sj3jweJw5qzLsP3Bo05Me95SuLCNw1Ldo82LyyGHQnp8bdABJ/lpNKAWABliwGAIWAAAAArwGfcWpH/xDaJAzw03gAON0K8ttYnwHOjzCdhBufE+zZf8mwgLHV2jSYeq/LKjAGDmk6S6VyubTnVSwEcwbjkZRULQ0DECTCwsmG5dkjl1cIMBJuFQg+ebyp7derXWQ0qr+xCQJXfsMGcMqzBAJMCYEWupkV05rWyOyb9mnrjcQ/0syh49VHIbMZbwGYFoiKl2BKdJaWqyHSLLxnqzni34/d7cyPXppl+zU/CGnAl4EAAADMQZt2SahBbJlMCF///oy6ra9PR43a1EL0YxVv884ZTqNgBql1CVB5F5sITbqTrFbmjTAJwmz14F4LSwGw1tNG74QSGpCp7Yk97DvWlk5NV/CMqb9pGu0JepsJRQP0YvqVsPcYLnNUNtJDVBF26O15C6FRXqxPxMQg+BsTAuJWntikNCDwGzFDB8fT+JMmdWeZCNsdbKub2jgsPfqM8LaN8u6gzmIt0ce2pIpv+Kzipm4yv7fWvPVGyG4mlFvduJu5NXJ5Nt+Dq0sz7HqCAAAApEGflEUVLCP/C3cDBjUXxzOM+ToAJasgTyiZDuj0zIAHxanSTdscXZa04NW99CXxg6ZXRVcXy3mEfGA4EldhQ7YstzbSWo+nWXq39ZjwnHM4LpqRPgPQLYcxqrTydJ3D6JW6z1wCL9g26i+p2tEedVbLzIlBAebXGYZKIWb0AQRU/s+uHq24gqG8+3XevuonyuQeko7pt0AAPCAOpSOauGaN7hDwAAAAigGfs3RH/w/wn5eootWG6z5vwf8gAA3YVVjdWbkaX4RyTNlEWXV42S1iJrcT8QLd+3GptklazTKAs9ZsAT8PDpZ5NOdDQXAqFNPFTK0yriErsK2HbkL2+83zrSFRW8N82/n7S2VT1kMGkIT0H97HsZO3jZJR4Io7shRlARUSauLD4khTk7pmwgBdwQAAAF0Bn7VqR/8QCPjOPaPtCTOgBGNUY8l8fdZOR6FmijjDUZYCwExFctMBKcKaTZRCIfEgDZsPfNhEp/ajRHkTmrcNLpJRG6B3j49R47LxeS8U2jE8Er8vUfaJ4VQAScAAAAEaQZu6SahBbJlMCF///oy1Qw77ep3A3z7UYAHWc5BszxiiINz3HZ5cEtn4qb9JNw7mAL93lnnABoP+/3v5aJYTLnRvACNC9g34B8qRmOCGTYApz+MsDQg3WWn7FJeGV0x2BuDwkqGQgq9/ODu7WddShNAM3ypqo5/rKM42aI+nY8Ann5SSaT1QHCtcIXNnLgcAi/wdXpufsN2gyR5s4jFdrkBxWClqP3Owhx6Sn1k/m3DzRjWKDJn8Q4l2WzrLopxAtksWHkVySlh36ovJ6Jhmcv7pVxAB/ZKTYtHHNRkHHgM95AZsdIULl9NvHf/0icxR8p1N5SEbWiOnIy3byKt0kc5MC8PAbnXm/dEvglEdhslYFALpfSxWqHdBAAAApEGf2EUVLCP/CaxPS/xkgB/UyHz2Gc14U6uT606VP4Ge6a7qKKmFttMG0zlX0bFMu+3OJJwsbFEpI9uUXnPqs+PZ7VLxu9+jXJW4wc8j9b+7E5zcfJCp8EH6PQCuUoH9EgFq8uxgUszidyqTgzWSGXG2I2QBiq47o3N3QMqdhGN9WjTGIObNMiF64rHTLTInoVabyJLQaOKlQdmPAbmgMqR9OCyhAAAAXQGf93RH/w228gvVMPGoFTEl6QBVJ84iSA+wUVpzD/HRmYjaNaBvQ/2ZTCJSwUc9RSMPWd8PaJCYlYdDeeDshxHtKgTK9BauXHXH+tztTKgAaU/GFABlrpSCAABAwAAAAI0Bn/lqR/8MxmdC5578AA2HyFP0VqNcRCogaxZRJy08TBqbx6Frfib1DWr27dSk2WEkTlO0mKp153pYIjRf3J4IDFmPRtW/gg9vj62zEgGrlGwVeSz/F4jEI2AvGma44gcFryqIWgb2xwA+Et8jRG6lO/Fi8S10q9FU5cfMHfPKv4Uo6bTCGAbyqEflu8kAAADpQZv+SahBbJlMCF///oyyGMzCVsR5sAJq0Ndgdg32DaClgiG5P0iTaPG/4f1wie8ZFhK9eEftJMAEyLVZ4i1JA/NBBnLJ66gZ07W307rb6UIEWvayVlmjiIC8bcFwlAoi1Imu/DqmeagikPvcnMXF4u3vGVrDCGnL9UeZgKREcIwcs5Nhh3MWVh4dxkURBYFLPtxP3mCryiTSsh+DtZhGWgZ5SeVff6DI1ZJvZhrBH//rOoK+uA+83nHljfbqE7FUmEpL7bBsorCgxM0+Tfn/96qp2GKLRez2qbPjLOnse0VQIawECpzoJOAAAACyQZ4cRRUsI/8HbDYQAq5ePgAVtoOUHkDCY31N2E4McFn2DStMtNKSGJu/pzr1Snbwpih4kZfec1dBbLDkir+lwoIQxu1YVAIND9R+VldKoByZeqc3QyFc3Ns3ZA3AS/knzN/CjZDAf+Txjibz+pLXunyYm19sY3eedGJWTgj9XkHBoLjiPO8bFG9LLztl/Swz/Fgx88w2XnLfkHkXAhiZJeH81tBNRmOsx6WYmAN4pWYYsQAAAJwBnjt0R/8LDqujDUATootig1aTr4Ejnfsvuplk5lxs1GeOAL63D0Brk91Z0FTv9FxLJOK8J2dgNujskHYkhzmTSDU4r/VKRkuJg5+p7ZB/7rwOj5UelPC1N6hmjSc6NEMtxpC5kamUjhGsVOd0UJYLXF/c5K8w0uJMKAZqt5iv3BREijVVqsklHS/D93jx11z1+M7r1nBQY/dIQMEAAACOAZ49akf/C3P3qAKdz+SuJueu3ghFydyE/MqV81paw+FNeT+rDcFR1R9At33z6PG+/9BNJItW216vy/eIp3bENfuh6Mg6Hs4Mml1F4LT2EdTdATsVIfAxYHjpAPQ88MpgsaD6rC+Ll8k1+hk3bw/gB8M+oMo9gqlN6BtTsxMj5sumoNHR6PfdhhAxy7EZ8AAAAP1BmiBJqEFsmUwUTC///oyx/FIgAPsAJY93AI7st3fRMdEUJ4pqfhVTHS/fwVXetrU5dtsmJAtNZ3t4o7Cfl/Tj3ZAfivngxEEfcPtvIAEGyqhvpN+VdBGqr4wYEbovc5IwyqTUGfhFoRfPToNrkxLbUvKkenJwiEh2ehezCHCecPCWrO5WL4Sd8djB9l3l+Vg914pbKA8yai76qNZGUEgagX7A1TnGIlEqWAC6cdoqnM5NMCWAiI8ITzBrGZf+fZR/zsC04c36gsG0BdoWJl6MpgOfk1sfHjDkaw4bNpjFOy8OQ//JmNwI3J8GldO1k5znb2LcqHpiklthvvmAAAAApAGeX2pH/wq9HgANNd8/2ivHFPy7RgvN4qL5kgX/ys6XWid+N8rpEIPyHo+Rp6ayU9l9WMRkUIMOUl+ejqQCiTQUrFOwYbt/brAogMa/pXE+B7pa635i8+B93UbBkr0PLX/NoqR5X8RcLfMrs6m71A1xW1/0T7PGG7HGBm6oNiwq+6Pzh//z54agFE3RlIBp7jQ5ZWpxVFAebBycwEyQAklagD5hAAAA/UGaQ0nhClJlMCF//oyxm8OOmvxZ3yX/go9eAAdoS2sPlE1FSeMpirZIF4I0xA33Fnqn92SZ1Wsd8PKhJReBlDya2ar+G7Zu6eA8pkreMbQzn8By5ULWFySBojlV94GdbzB9BniLpHKygnm0/FJfyijmBFtHRdVsFjVdbQiHMDn4QflXgtKmPif2HztGUZmRg0jF+nhjWJ2xUuDS98HrVQqjS9FWUD9wpNFKWZFLumi/6sLCoQmhaNQdavT/Us1FVKOjBQe9YtdRyn5L+7jOoH+Mjp5Ykah6i+QmagTfg3l0JmMLEGG/uJONeABebPtc22I8W+CzZgiVgJ3w3oAAAABqQZ5hRTRMI/8HL4sjOxP+tLImzAtt/nuEywgAcSM68pbZySg2mNiTd0Op1weMEocEM9NrLwkuC19pG4nSAVtOH3QQhgbB3i5bvrR5W5Rvxu2iriY4TsfmEkW9dAzfdON+qZ6bxui+BtQBqQAAAHwBnoJqR/8BNfkBMX/J8OhgHoACy+rgmNlhvvRmGbYp2pENJ529eDZyXZHcRDWKlDSKVLos7Ig1IA2Pxmv+WJKvIIaU74x0oZSjxMwBl0jaxtzIZkmpyLvi9ZwW3hQGXwz7nog/LE7mQ2UyIdAOyLenyHqEpKAV4IfeAQg4AAABJ0GahUmoQWiZTBTwv/6MsAZPPNsALbo2BRNjYHy/9s6cy6Ro5t97qgcF9vj2z5joH784HjDCGx78fwj8FZY2GmLmDhnKFKnW8SzUk7lw5LR9SNv+lGZ+fd54FaIvYsnD+b1z4bAisE3n1TJto8/cd0lzsV4x89Innz6keWM/7lhq15TnSPvsk42wuqIeO1J/No1NneiVU4ZyN4q+BHycdT5Y8h4NiLajEPFb+KCDgkqe0HaTeHTazQoSFHvOA8E65J5cbQdagYdLfEypV07j9hJenD6YHdh+Y0dNyVTj+nuLmTF0Y4q9IdRA5HmxZvr6nbj+0aeH2nLWh2WDHW9nLZaA7ly9hyNcS/F6Yq87MpLdfsL9ck2TFLLSxusBYrL4Z3afJzhNUkEAAACLAZ6kakf/AyElS9YRKADmEtebKDEX+Jj206If26k2A6XqF/EFS5fNdNCpcPYamPRODjrtiuR1U5S1Yan8IZOi/StI7UQg1sPEMy4WNBn0pKVkAvsx7Z8ByMGKdD5m3hr48Y8cnc0JzV/vMITNNMKRogyh+h+89jDPFesX4C5JchYzgGsVYeXxycBiwQAAAS5BmqlJ4QpSZTAhf/6MsAZfxOdH6nSf/otp9Qi9Cic3caCZ7KzgA4Mevagpd7yh/r9zPMkx4Wc05uD651yKY3yhfBKeobgUIUjVPw5iKy23IjcnNbkuLiPkGDX2JNxcEfp91Iy10CID12KW1LtmhCWriPZLT80xUqWhOP5FD7jXwzut2yWV0BFRrj6pabdcHOQtB0PK6FLuuPjWs2DEBP65JJ1UA2+QQ6o05ppNi3t1yw3IR32XhCcLPZUaUdVMiIYpPSzX4duwlhgxlLIMk36lZ4HOjcSyM5dmVfpMQd6B8cPrLHQGIOA3xzYbe5XBi6yRVcPvAEJVTo952/0OmsoDMroqn08rqNXOlTlfV6lM7yFh5xClmdPuy0SEDW0e1mxGGzgVgTrenMuqucYKCQAAAOVBnsdFNEwj/wHx2/+bhAAqSSVuFKI2/DygBfTgIa8MW3Ws5yAX4EK3dtfdyXcCVYl8u95Q0MBrAaLFeHrfoSYj4f9H1rnegtMoC6ZBDCpS574sVGyS/w/HzJGrKik1spY2UG6QhEjWC9jKjMlWYfDOUH1YvPkdSGIZNdG9V2xIUPGgBo/fjdQHyxG36BNhL7WNEdvx3BXtNd5qrQ4yYMntuW4VD2Ft1WRVCv/Nr7JOGwS4IaMmIeXn47eMB452ZPq0JLA55h2ny7lyiwHEekBDPSfVVO3Lv+runezFW9kww8HQAI+BAAAAugGe5nRH/wnQzeaEc3WAFhwjsubpU8u8kg58Co7Cl1SnYJRODUOPc/MnaNYNJeTT5QIrBt3Ba1ptHGxOlKlvTtjq010HAMguFy+5cUkrsXXxilsa+vz0H0PZD8qaVQZh/LiKFh2A+eQ98pC9vVwslluOSrEMazWeNZk8JXnAcS+5iiAn/sFz4qSJWRndGLrqPo5PCY74ZpNNAnQtig6bfsgrFW50g+AqF/sfg4P0s9qmG5SAMJyBoWAd0AAAAKIBnuhqR/8J35PABGeceN0EwB7uNaMU6jvUVLOH2zviBKhvponVrENphNZvEU6gg7Yzx36as/ErwstayxFwCJXY7TW1IyeI2bdqoNkcMnd4ZDFwSbaE6USoDTNsYhqbqkMy/dMc4FL5AMVnU0FxyQYZ5S/QKpGz2RMXoc3yXJklTdxeekVOagzgSZ3inrWQORxjpf5hOrUbzfLa1YDpd7EAfMAAAADkQZrsSahBaJlMCF///oywACI9N6a76kqcZJ0xgVAAJ1YYcrlwUmDSmBG7tsPjoPNhwSLACM+ycTRE3HQ8exg50LajC8kOwiz8z/ObgeRjn/Tp20RtWtDy5NbJ7O55Fno2GEknM9+dNbSLlch4aEJWxoNLfc+7gqKV8p0NTntvYke0CF7epVrluhv1IgHxxUHVrEgGHdM6u+jgxtXK2HJWBAcvEdKbzLeYeKxu3NiuZTOU1CjU7VV53ZypNbf2cHitON0zZ3dAApbjLnibOBAgVh4bp4fcAxMnCuTDBGT28E3voaO7AAAAukGfCkURLCP/AfHceTRlIufNNtIHhf5iIXkOpZl2gYgBbgAAsYPWwDoof/osIFKsKFbMFOJ5wBQ3oHPLdZEJBKsaHIpxzeuci+AAoPn1GKfu3MifkBXR5jOrVzYPjooSYIF8pt2AfaiKdn2nmmtCOm5Wcrc10Ta7LmmfiQkHE0sZ+Pyqc1Nr0aVNkiQrSJWinNvS12jB8Ht9q/Tad1/YYMgF24yvulCNSEeLljC7Xy2w7sFRlcbTwhwoYAAAALABnytqR/8DISeTKzMvSoP0IZaaOPKt2jhWL1KAD9Sv9cML5Q5usBtEGfI/ho6gD8D0ne7aCQIiNBcqZfVfHQkyIquzVyd1y8Y7GOj9jpFJGrG453OxW0OZ1jYjE++fYbv+hRYSsNn2vWZZKFOoIFwINgqQBUzx2ne7xc0n9VsQnYp6G+RgtggNsn7fNAFkDmNgNnvvSQTOjd58kbGplm1FEL6slcchpePlbqv4gAB0wAAAASJBmzBJqEFsmUwIV//+OEAAfBCrOgAnFWVmv4+94hVQuiM/wn12Dn6JzixwzWzBMBk/QRfZDSvoRZMmgjBCTbXKVC+DXpyv8gdlcMMFCaITFM+3YA5/v/Hg8Z25ipdAvNbqKX4P9KSZ9Txn+AhrE25C1s4LH+eIsQmXRxihGd3bO3RZSNmYHi+5Uyacae4afArc0QSp2XSw4Jdp+2DhzOJqshObcZ7J6NzRdDpYFYUAgOn0R8osJB5Eua4sj0gDcXFiDAru2CKD9GD1lq6o/q3cKp6vTLKYEs7njpvcrKW/SEk2gTcPbtjWrC2djbhJMgfUic2N8IxfPndcJWOzOLgJdQLFyojreoaEB5iwxDy3C7GQdynDvhT1oqGsIvD1TtcCRwAAAOJBn05FFSwj/wHx3Hk0ZshDKlWeZjkCB+mAGhLcVBUUcnL5fzdxLSlwkpogAz+k5jFJXlCeHDLAel5NjUqd12liL5wojWCd6Pu8d1St0OudtiRSjY8vC05sby7HNHrwdQTlgtMA6Rrk2JFJdmCaRcBjXHXl4f7cyeAJK34gLQb5ueig2T0PjIDvnawNUErjl6JoF2RHtkGyWHRg/ZCZEFpCZfZ+ITBDeZNurqOgcFFIDppHExzNpJEnWgMwSSagjFqZko5ZNGyvwcKiU1AtXMkq9mN6klN87ego6/hboIBg/QEvAAAAqQGfbXRH/wMfhQyULjrrU0ZXpQDmZOntqKmx+IjUUPEA6LEAAJzNnR5h/hu0g83WdaX0dS6/1e4NAJymHr/va6szTwEqM4BC4CetpW0vxIBr12gJM6hqNMuiFDFzhoWieMD/O2J2SPAlpccmfuaTjKXybPpO7TRsVM5KVBvJGAQ0tIgujpCXtlk9k3Zdw9grXNk1DyxqL28Ng24b3thIdDSVDEP7w/AAoIEAAACtAZ9vakf/AyEnkytPDxJ6rUAG1TvzdXmvBMRgNT7b9OYgNz2GpMyuNrgqrkAbdZiKz/gNlsSoaWb6G7GQg75H28yPBcGjl8VeUMJK/nIbetMo6JqozFS2VLYxQBU/3cZW1QeqKc6ONW5fysIObrOD0AyexNOaeISW5ncrC0HAQqdVuje4Sja3Bv/Trd7pED+s42dTKik+2agWrTBEn2pSR64JQLna1CJk7KgAFbAAAACmQZtySahBbJlMFEwr//44QANexx0AJaXgHKvRwqrKWT8Hzt/7I89hSPZajJr7GFAtUBtzj5jEIp5ufG1wm9psFujsMRGUGVsQ5ukNASQEImHwDSKGYe6+1G8/TzwiyI7+SBQmHdokd3cWhl1iwivybQ4r7QrfS/SdSLI5wQ5TiTD1gBeUpymO4DePCZvmLfhpoYA3Ofj9ImC0atSFrilatnotNpwDZgAAAJYBn5FqR/8DIeQpZgJAAPURTsw9PTx8AVqFfzrxd/OHNI2HhpZzt3kFoMMdyZ6Wo34xeGuMN3GWBfpYNI/anIl6f8giad21NMpkcG3cQMlfdPgBYXMZ9LUz26Dxr/sZiocz6L5xIvIgP+IX9PMWNFAYd/5IBnjClGM2tmBsU0h5d5Zy1vF4obyQHbJLHJvAAYWAiiIPwg8AAADWQZuTSeEKUmUwIV/+OEADY+o2xZUAN13QQRz5O3RM8AZft2ppVf8hra+kODD16GIaWh7g+GTQ7Jp5mDliIF8ENoWXRBVyh716Daz+PeTC3yuYfOTB7zyHRINn+YYbHX+FIV9ez9jcvQux617c4Nqtan/cF4VqHxY/lV5/EubvEj0bs95p8lJ08h0A1iBEoiAhYYcumGuckGaMrizI8NWKzs1RTFBY8LxWbqKn91zM3evnEnV4jrx0YEKsex16hyjzKq2/XocBi9rXnbVwiQdN07sLgDARMAAAAKdBm7VJ4Q6JlMFNEwr//jhAA0/uRd1YaxDbHv/m+HJtUdQ2NyEpOkAKnzcock31mrYPwfH71rV5I1LwvwEJ7XVKW1tEjb9cskovv930y6vEX7+urQOazrIfXsKz+JiXBzmGTMKhdWiAttw56ZlMLiGJ6T9hQ1L/68znSVNLrqFzoMGO9TW4yE4jT5K8ZkD8Qob3FYjD5YJpLyn01BgmGSw7kcaMa4zO6AAAAEsBn9RqR/8BJj4y02l4GlfsDSKTyhgYUKcClqCYhUWeg+Et5JZsIzDdV+WuJcyCGlteF1AFnJD6voLoZRbDY4FH8Fw4NhaNZhFwCTkAAACzQZvWSeEPJlMCFf/+OEAAB0fUbLvAAtElQ57zVurHZD/mLRMDTFaE5BdxF/KaptvKF2af204Fx1g4PHxTpoNo+S+/0WWSEHi3Tzpm4DX2i5yclcuFS06R325Vbu/JwS+7dF1xPPCv0pUwfFFJYT8gtcJtAvHCQECUrzD+KqWKVlEDEniDv0CbRsrgAWv1AsYFkEnSGsdfwQYNW+0XmfSPbq87p+g3LJHGfHof6vOL1gC6yBgAAADiQZv4SeEPJlMFETwr//44QAAv+quBIq4AP5xfZfxxoZNB/kILACAtziIG2zlyhTrm6z2AWGIXMJuaxKWtQH2jUa8kqycsACJGnB62Dz1+iY1nK7dIl/1+mm6+DYMGNSs3P6yco6HdCIRp5+hD0skol3+zfixh8jd9mAUiwpApAhhDQd8NXK1+1cM+Gl7pbDeRD0Ld55w6+Xqn6Hn7n50lOwKKXXAriHt3GcXEId+xrMQpftPkdbTw4kd/Y+dUNSDKTKSTHorJjlql9sOb4ifv1itglvP+So0JgDgQDLAHlKgCtwAAAGsBnhdqR/8ABkpPxMwgmv3IwADbDVWN1ZudpfhHJM2S9ZdXjeb9OViRjFSz4LnDKYLxWJ8Rnt6rHMQa4Bm45zMH0nk03aMAsjsBfRe87XyxheDdREyvWtkDv759/FSk8UiqTaHDXY4q7oAK+QAAAPRBmhpJ4Q8mUwU8K//+OEAAefVWuCu/QAODpxys9KE8BkKH2w1gxLP8N80lZzGve5ceCy+5y+GUHORJs+RyQcGuDOAK/aFD9PtAUY6/z4RXxDlSFk3a/Qxm939W7x27XauD3AuD2wIchQ+JqURHeCoLhn6nlvdI1VDqH2ngSsZb7tzKqbeouiH2ZUgvKqxxlrVKN/RZrxI6oRMSyiAoV/Al17yLPNQxJAlKshdnDW8JIvEo/2hSkcRDvbVir0wPdaGtb8rv1P9RG35TWW5IaRBq6t/WBQvkFIYLwZYA1g9WRUvIzz+D7u3UlLLrPmfIVKYDuHoIAAAAnwGeOWpH/wAP5FyUAUANTxUKW3lgxL4mvpjWQwbNjkYoNRSTWFTW3ecrHFlO+C3nVar5csAzYhAv17iz7HRaXs1svzhGJJqmVx8rkcRN7e7niZz4DnwLtLL2Kbh1OM5jXKJ26tduB6Hlox5sGKMvXn17rjnVOwE0Z2qaR9VO0tVxAJ+K37imOq790kyLBr1YmAcAQgWqWLLILpRq/gA1IQAAAONBmjtJ4Q8mUwIV//44QAE9ufkANyibu7H7bxlKEXv9E6HdiaYvp3iEzgyFUrHZ/CzfsNkNFLVcPGxbbZPNcNJYAc5eEFe1sxWNdMafjz1BXfoJYuqBXrZO/lmzokceXH83cij0isDozP/62lQLEP/mXQkd3gv+QDInxNGvWlhmXpzrGzUJsk1C/SsiEoVsUnJSGp9myD2P9blHyfW98iFkVFo6DNODSiLdUMb/sA/fxhPxdtWNEznw+HuNV1OrMMKW7W+kxdRKKmb0K2gsTwEYvu3PRB6XoLkaASXcjE12gLQDUgAAANhBml1J4Q8mUwURPCv//jhAAT/2tu6rV/8gKABLxkkpIv7q61vC2Ux5XiADgJSyUPX94fgwn1LBwJHeZmqujNryaa/b8U3X6/i0BSTFhfIsD8Az/T22HTsfx2/k0uWlB+eTc9wQkHmx4kIsEgXIWjFEffg0cCGQI3Gs0ljoGoMG3els8T9yNDh5ZEkTdKYkEKZzN3BXeh0a4O79OwvDr/BSd5keBwbrlGcyP4op2lbALomG5E4DgPT01cM4HB1TTtE5x8gDIwn26TsguCeK3HBq4H6tzhVcpSUAAACIAZ58akf/ACoJ+N4wLutP99huADYfvhOVa45JJVUDkyM892MFDmMr9MwwKar+1r/h6jFen3ofuYcGFjPpvA9p/lf94CWA6PXlTy4QpB6H2CyYpM1aV+Mh3vhgCBzEOPHxQ60a6iRT8YIr9rD3XQYl8yLXc3jayqzCI/+IZ428cZLh9GXrgYBqQQAAALpBmn5J4Q8mUwIV//44QAAG5YoEAVqcNDUe5whdI5EClkosAqRACMFzr7csFi5p5rDj/WBxJ4hMy3mnghZzX1iR5qu/TiBLsmDTvIjy99Bw7RqS78ys/TXyVYIolUe8GVdAMgRvCkD3KeNgrl2/yO4+zJCpRi2K0JY7YsBH7S6ORw+Omp1W+VS2yQyyImlh9U/WqBizyvA1Dq16XXn5Y6/ei/i8C7ULKefjErwqk+QtlBtsL4VGpg/wNWAAAADtQZqASeEPJlMFETwr//44QAAR0TVAAtndB0mqIzVhKD2Tv/Uka1mun3mjgYj4jKPHB1V//gWQ5rbwXM9gfTA5kfjU14ARYh210UorXQd1hPL726g/ood74G7YAssjAhKTqiixH9h67K0JNspyptv+hGhs3cVs+2Kb8U4GtBAP9ubh++Y6WsLwpCaqzAwWXwgvq2LqQuQWrYctByjRttO+n+iF5TYNIGjNNrLwTc1zh85IGerHfb7iXsnLJmAQU0qgZvPWFMSHjFHzGS9kTUA12Hs1IU22frN20b51md0YU0fGMB/wiHTSkaBdZz4uAAAAeAGev2pH/wACW/H4aRXUACOlyegJp0GiJedOyt4rBUY9BwDAyhIlbCR4JvfDqXhIKaebg6dOkiRUdhcfmCJoxObwxQNjkcPStcTffk7+H6Cq84mulYeMT38GWdIV8zjBT3uvSo5munES2LebSgz1sGShrdWQeUATcQAAAMxBmqFJ4Q8mUwIV//44QAAR74IiGzniUeyI9/1oARBOAK2jX8tX4aUEfLpG76i4gWM98zMPCO1bAYu3GYeQX/T1FpnfsPvcBCbOJQ2N4c3evMCZqnlALb9cM28qTllaAT81Pf6MiMxYhbZarSjkyGKDVRWbV6ge0qfm5gjk2ZSXZbXitarDjlT1OR9LYjXJKTByv5uG1RbDmVdYc0LimACV+opt92Q8HiNr2hZoR8xBwb9HuuQOeCea81pOdKGwiT8TLk5SK7TjUOH0oCkAAADOQZrCSeEPJlMCFf/+OEAAAA42/++ngBIRnHqWTdNk65LCBSx9tZAneP1xQKdB1BdFQQR38oVLxp9kgvUQ5O9ixhO3LO8x6P4XOUogbXyMRSsJYwdfnq8gRAj9p2s5Jw7Grzibcdj6fJMg9vSB1OIv1PtDHbpyYSLM7xhrmJ7fWyjuz4M7sRPyaSTaXFQEZY+4az2RDQp9295FrFBpUwNsFwF9+osp+7+4W9VBcGqS80gbYAe+wcSnC6GyJgajIPQsSWACdKNu0f1YBeSGi0EAAADNQZrjSeEPJlMCFf/+OEAAACTcP5S2X9PQAIfnqdOCmBzyf1vTuOmAwQCfu6Luaa8ViL+mVgzYb9B2qDIyrwSsTYv/Q4teG+PWSMEEwgh2snFSI1icjAH+Bd82CvnESfmMbpf5YgHzFUERWiZt4q7MRH/o4KNQX4A5slfY5umO9o7VjxoL13z5Lw5esjzN+n9SoDvLJtFL+x31tKL/xXVifjx8iX0kY0rsvkhuzDRCYv5gBIqAmKly1SUBGLWnSTFNwI53tl/bjB8v5fZKCAAAAM5BmwRJ4Q8mUwIV//44QAAAYnf/BOABKcckwy4CXRBHkGVjcOoLSSdUrYmgfqDQFWJHkn/vFY4Oz1afAY0ZRGoMOFbe4my8BqYZrd8fLYhR0X3Ek+Sx4JtpkmPwWtyz0C96HFKFNehhP/xexZFuv7gHrlWHfKzPsjl0mtGJfNVlChyqegp2nnxsKxy7rUB/aEHTLicM8rkKuPcEZhYiM2Ufw1rd2Rs3f7IKHy8afz8n8LkPDIxGJDWj60rK3hWDeAmV3tD00lM8wTruhHEqYQAAAMtBmyZJ4Q8mUwURPCv//jhAAAD5am18159h4AIq/tuh/6KgZ/UHY/l0yS0qfpM+3YBxMIATtoFMfq6PmYRnIF0j2+Wyx2JwUT76DoaX1aGzHssflya3hj35Fk3Y25UTPAFE92FATxCakGEy982UESutgnZoDL9OBxfGB1wdYGlF+rnY3o6mKkPIT/8+Gz2C9zjzRIg7S/lwgs9ksGW4DX6LP3UQSZLWeLt1dXQjFHJuQRyILDmZvlvenul1D31UTkByM56TYgHEsnvbBQAAAI8Bn0VqR/8AACDAGdQA5LQ/P/X/VIMDhGR86fFyo7QiZiY9XiS1/GrO7DjUNRXMUas2ti1QWmPM70szqBExIwkK8Blod08rgJicynI8crIYIGV31zqWn0fNEy+N11uLd+hRU0HU/Pi9RBsA4XACwJzOYPIUpiBl6pxUjOCq03Wj2JGh6GrBL3LFHo4dYIgTcQAAAS1Bm0pJ4Q8mUwI///yEAAAnsWCgDaLqpDcuoyYCf2tPv/BHhoybX3FCAci5+qWO7hib5Qe1gyOYtUmBUoTx9w9DBV6eQY34ZqYEcJXm4xLfnvZDRzBOOZsg4F8ARmoTlKKGYUJm1NjycrpYspCQqyLWB8Tvrbu1wADEWEsMWyxqKu9DDVd++gtu9Fz4cAabzB9zu1MbQeHQvxd4qTMglMtVYLlbTXOPBVTlanPmsMUooTktlFx7YrFqrfema8RNYyBIcjpHid+4se77y4/OavQgFKeNRfxv+0eIm/EX2rHAdtg0W5w5u4Qwvtr6p03eOpfuWg9Ok6JQ0+IZXby3/m84XqzZpuE+OczfjYw1Q3JTG2eGoz23u3CjmJx5bGF7I0IHHS1UbH2gZn+vurxxAAABDkGfaEURPCP/AAA3UyF1SGgCHKd5vjGdqFNDb6zFBlCa7YPLcnEC6ljFV0dS5/M21oKxTbdAt3w6//enZzZr3LevpWJuxbdTfOoC+YO5teTtRJm02nX4b8S4U0J65bz3HrU19d0vH/7x7vMbWP3ABzA6a6hmULUVYfgd8hNM4kQhsghj+1k+Re8O0xssIgIAULNZzUiOeTpVtnBpntOy6mDszgbR9KdEiTf0eur8DwGjb5KHAoFuwdvWefQ+hQ6L5+V6SiDkawHnTITbE0QfaUjtRSfjSxxli6Y7OnTbjNxMeQd4+OqqStSAHr9pV06+Wi6TXMUD4XnCU+dR0q74UW3q9BbQmwSGjsbkVNVbswAAALYBn4d0R/8AAFjwXgCg0/nNTuk+n76Ny5TaX0YmTP1PrtWNoWfMykvXuZN3n18LZX+UZH+s5mL1bsTHm7ofn15a69JBb/VKuTl+nAtc260DfMno9+yR0CIh6Tr9w0jNkYeMS9GbGmGWt5XQaZTXrL86QuQ2i7r7N58xC6qZOWwStGPB0Zuusy+g8khdDZnEHBe+EL8ziR4jmQ7GqiXcyF1bGwiau4KIQgSavrKo7nXpK8/Z8abCwAAAAEMBn4lqR/8AAFiUCZIRWsFJ744vr0UwjIuJlCx47tbiQdNffrtDXEw0ABs6wB6Kkgf4f/s6rVjne7GqXTXq4FDudNCBAAAH321vb3YAAABsbXZoZAAAAAAAAAAAAAAAAAAAA+gAAAhcAAEAAAEAAAAAAAAAAAAAAAABAAAAAAAAAAAAAAAAAAAAAQAAAAAAAAAAAAAAAAAAQAAAAAAAAAAAAAAAAAAAAAAAAAAAAAAAAAAAAAAAAAIAAAcJdHJhawAAAFx0a2hkAAAAAwAAAAAAAAAAAAAAAQAAAAAAAAhcAAAAAAAAAAAAAAAAAAAAAAABAAAAAAAAAAAAAAAAAAAAAQAAAAAAAAAAAAAAAAAAQAAAAAJYAAABkAAAAAAAJGVkdHMAAAAcZWxzdAAAAAAAAAABAAAIXAAAAgAAAQAAAAAGgW1kaWEAAAAgbWRoZAAAAAAAAAAAAAAAAAAAMgAAAGsAVcQAAAAAAC1oZGxyAAAAAAAAAAB2aWRlAAAAAAAAAAAAAAAAVmlkZW9IYW5kbGVyAAAABixtaW5mAAAAFHZtaGQAAAABAAAAAAAAAAAAAAAkZGluZgAAABxkcmVmAAAAAAAAAAEAAAAMdXJsIAAAAAEAAAXsc3RibAAAAJhzdHNkAAAAAAAAAAEAAACIYXZjMQAAAAAAAAABAAAAAAAAAAAAAAAAAAAAAAJYAZAASAAAAEgAAAAAAAAAAQAAAAAAAAAAAAAAAAAAAAAAAAAAAAAAAAAAAAAAAAAAABj//wAAADJhdmNDAWQAH//hABlnZAAfrNlAmDPl4QAAAwABAAADAGQPGDGWAQAGaOvjyyLAAAAAGHN0dHMAAAAAAAAAAQAAAGsAAAEAAAAAFHN0c3MAAAAAAAAAAQAAAAEAAAMwY3R0cwAAAAAAAABkAAAAAQAAAgAAAAABAAAFAAAAAAEAAAIAAAAAAQAAAAAAAAABAAABAAAAAAEAAAUAAAAAAQAAAgAAAAABAAAAAAAAAAEAAAEAAAAAAQAABQAAAAABAAACAAAAAAEAAAAAAAAAAQAAAQAAAAABAAAFAAAAAAEAAAIAAAAAAQAAAAAAAAABAAABAAAAAAEAAAUAAAAAAQAAAgAAAAABAAAAAAAAAAEAAAEAAAAAAQAABQAAAAABAAACAAAAAAEAAAAAAAAAAQAAAQAAAAABAAAFAAAAAAEAAAIAAAAAAQAAAAAAAAABAAABAAAAAAEAAAUAAAAAAQAAAgAAAAABAAAAAAAAAAEAAAEAAAAAAQAABQAAAAABAAACAAAAAAEAAAAAAAAAAQAAAQAAAAABAAAEAAAAAAIAAAEAAAAAAQAABQAAAAABAAACAAAAAAEAAAAAAAAAAQAAAQAAAAABAAAEAAAAAAIAAAEAAAAAAQAABQAAAAABAAACAAAAAAEAAAAAAAAAAQAAAQAAAAABAAAFAAAAAAEAAAIAAAAAAQAAAAAAAAABAAABAAAAAAEAAAUAAAAAAQAAAgAAAAABAAAAAAAAAAEAAAEAAAAAAQAABQAAAAABAAACAAAAAAEAAAAAAAAAAQAAAQAAAAABAAADAAAAAAEAAAEAAAAAAQAABAAAAAACAAABAAAAAAEAAAMAAAAAAQAAAQAAAAABAAAFAAAAAAEAAAIAAAAAAQAAAAAAAAABAAABAAAAAAEAAAQAAAAAAgAAAQAAAAABAAAFAAAAAAEAAAIAAAAAAQAAAAAAAAABAAABAAAAAAEAAAMAAAAAAQAAAQAAAAABAAACAAAAAAEAAAMAAAAAAQAAAQAAAAABAAACAAAAAAEAAAMAAAAAAQAAAQAAAAABAAADAAAAAAEAAAEAAAAAAQAAAgAAAAABAAADAAAAAAEAAAEAAAAAAQAAAgAAAAABAAADAAAAAAEAAAEAAAAABAAAAgAAAAABAAADAAAAAAEAAAEAAAAAAQAABQAAAAABAAACAAAAAAEAAAAAAAAAAQAAAQAAAAAcc3RzYwAAAAAAAAABAAAAAQAAAGsAAAABAAABwHN0c3oAAAAAAAAAAAAAAGsAAAj5AAAA9wAAAFYAAAA7AAAANgAAAPEAAABqAAAAOQAAAGIAAAC9AAAAXAAAAFIAAABHAAAAkwAAAGsAAABKAAAAWAAAAIAAAAA8AAAAXgAAADcAAACBAAAARwAAADgAAABAAAAArwAAAFcAAAA7AAAANwAAAMQAAABhAAAAYwAAAEUAAACtAAAATAAAAD0AAAA0AAAArwAAAEgAAAA0AAAA9QAAAEUAAAAzAAAAUAAAAQYAAACJAAAAVAAAARcAAACAAAAAgAAAALMAAADQAAAAqAAAAI4AAABhAAABHgAAAKgAAABhAAAAkQAAAO0AAAC2AAAAoAAAAJIAAAEBAAAAqAAAAQEAAABuAAAAgAAAASsAAACPAAABMgAAAOkAAAC+AAAApgAAAOgAAAC+AAAAtAAAASYAAADmAAAArQAAALEAAACqAAAAmgAAANoAAACrAAAATwAAALcAAADmAAAAbwAAAPgAAACjAAAA5wAAANwAAACMAAAAvgAAAPEAAAB8AAAA0AAAANIAAADRAAAA0gAAAM8AAACTAAABMQAAARIAAAC6AAAARwAAABRzdGNvAAAAAAAAAAEAAAAwAAAAYnVkdGEAAABabWV0YQAAAAAAAAAhaGRscgAAAAAAAAAAbWRpcmFwcGwAAAAAAAAAAAAAAAAtaWxzdAAAACWpdG9vAAAAHWRhdGEAAAABAAAAAExhdmY1OC4yOS4xMDA=\" type=\"video/mp4\" />\n",
              "        </video>"
            ]
          },
          "metadata": {}
        }
      ]
    },
    {
      "cell_type": "code",
      "source": [],
      "metadata": {
        "id": "_x9qktozurGj"
      },
      "execution_count": null,
      "outputs": []
    }
  ]
}